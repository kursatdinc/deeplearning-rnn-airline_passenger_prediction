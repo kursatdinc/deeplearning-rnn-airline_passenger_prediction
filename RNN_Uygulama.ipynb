{
 "cells": [
  {
   "cell_type": "markdown",
   "id": "9b05e521-6221-4336-8e68-46742d55ce78",
   "metadata": {},
   "source": [
    "## RNN ile Havayolu Yolcu Sayısı Tahmini\n",
    "\n",
    "1) İş Problemi (Business Problem)\n",
    "\n",
    "2) Veriyi Anlamak (Data Understanding)\n",
    "\n",
    "3) Veriyi Hazırlamak (Data Preparation)\n",
    "\n",
    "4) Modelleme (Modeling)\n",
    "\n",
    "5) Değerlendirme (Evaluation)"
   ]
  },
  {
   "cell_type": "markdown",
   "id": "4a19e591-5df1-4bac-88a5-cb7c06689875",
   "metadata": {},
   "source": [
    "### 1) İş Problemi (Business Problem)\n",
    "\n",
    "Geçmiş verileri verilen havayolu bilgilerini kullanarak gelecek yolcu sayısı tahmini.\n",
    "\n",
    "- **Month:** Aylık olarak yer alan tarih değişkenidir.\n",
    "- **Passengers:** İlgili işlem tarihindeki yolcu sayısını, yani aylık yolcu sayısını temsil etmektedir.\n",
    "\n",
    "- **Veri Seti:** [Kaggle](https://www.kaggle.com/andreazzini/international-airline-passengers)"
   ]
  },
  {
   "cell_type": "markdown",
   "id": "e8127364-2ca5-4e38-a317-bfcce49f6326",
   "metadata": {},
   "source": [
    "### 2) Veriyi Anlamak (Data Understanding)"
   ]
  },
  {
   "cell_type": "markdown",
   "id": "18cd2630-49cb-4414-b558-dfe13f08dccf",
   "metadata": {},
   "source": [
    "#### 2.1) Gerekli Kütüphanelerin Import İşlemleri"
   ]
  },
  {
   "cell_type": "code",
   "execution_count": 1,
   "id": "9adb0e4a-026b-43be-804c-49c77fb99c80",
   "metadata": {},
   "outputs": [],
   "source": [
    "# Veriyi okuma ve işleme adımında kullanılacak olan kütüphaneler\n",
    "import numpy as np\n",
    "import pandas as pd\n",
    "import datetime as dt\n",
    "import tensorflow as tf\n",
    "import matplotlib.pyplot as plt\n",
    "\n",
    "# Model değerlendirme ve veriyi scale edebilmemiz için kullanılacak olan kütüphaneler\n",
    "from sklearn.preprocessing import MinMaxScaler\n",
    "from sklearn.metrics import mean_squared_error\n",
    "\n",
    "# Model için kullanılacak olan kütüphaneler\n",
    "from tensorflow.keras.models import Sequential\n",
    "from tensorflow.keras.layers import Dense, SimpleRNN, Dropout\n",
    "from tensorflow.keras.callbacks import ModelCheckpoint, EarlyStopping\n",
    "\n",
    "# Warningleri kapatmak için kullanılacak olan kütüphaneler\n",
    "import warnings\n",
    "warnings.filterwarnings(\"ignore\")\n",
    "\n",
    "# Tensorflow warning engellemek için kullanılacak olan kütüphaneler\n",
    "import os\n",
    "os.environ[\"TF_CPP_MIN_LOG_LEVEL\"] = \"3\"\n",
    "tf.compat.v1.logging.set_verbosity(tf.compat.v1.logging.ERROR)"
   ]
  },
  {
   "cell_type": "markdown",
   "id": "4de7bf51-becb-4c43-8c71-a2830384ce23",
   "metadata": {},
   "source": [
    "#### 2.2) Veri Setini Yüklenmesi ve Verinin Genel Resminin İncelenmesi"
   ]
  },
  {
   "cell_type": "code",
   "execution_count": 2,
   "id": "bb633e70-1801-4372-bcdc-340d55278be3",
   "metadata": {},
   "outputs": [],
   "source": [
    "df = pd.read_csv(\"international-airline-passengers.csv\")"
   ]
  },
  {
   "cell_type": "code",
   "execution_count": 3,
   "id": "e6952fd1-3a20-48e2-bdf7-7a16e20b9bb8",
   "metadata": {},
   "outputs": [
    {
     "data": {
      "text/html": [
       "<div>\n",
       "<style scoped>\n",
       "    .dataframe tbody tr th:only-of-type {\n",
       "        vertical-align: middle;\n",
       "    }\n",
       "\n",
       "    .dataframe tbody tr th {\n",
       "        vertical-align: top;\n",
       "    }\n",
       "\n",
       "    .dataframe thead th {\n",
       "        text-align: right;\n",
       "    }\n",
       "</style>\n",
       "<table border=\"1\" class=\"dataframe\">\n",
       "  <thead>\n",
       "    <tr style=\"text-align: right;\">\n",
       "      <th></th>\n",
       "      <th>Month</th>\n",
       "      <th>International airline passengers: monthly totals in thousands. Jan 49 ? Dec 60</th>\n",
       "    </tr>\n",
       "  </thead>\n",
       "  <tbody>\n",
       "    <tr>\n",
       "      <th>0</th>\n",
       "      <td>1949-01</td>\n",
       "      <td>112.0</td>\n",
       "    </tr>\n",
       "    <tr>\n",
       "      <th>1</th>\n",
       "      <td>1949-02</td>\n",
       "      <td>118.0</td>\n",
       "    </tr>\n",
       "    <tr>\n",
       "      <th>2</th>\n",
       "      <td>1949-03</td>\n",
       "      <td>132.0</td>\n",
       "    </tr>\n",
       "    <tr>\n",
       "      <th>3</th>\n",
       "      <td>1949-04</td>\n",
       "      <td>129.0</td>\n",
       "    </tr>\n",
       "    <tr>\n",
       "      <th>4</th>\n",
       "      <td>1949-05</td>\n",
       "      <td>121.0</td>\n",
       "    </tr>\n",
       "  </tbody>\n",
       "</table>\n",
       "</div>"
      ],
      "text/plain": [
       "     Month  \\\n",
       "0  1949-01   \n",
       "1  1949-02   \n",
       "2  1949-03   \n",
       "3  1949-04   \n",
       "4  1949-05   \n",
       "\n",
       "   International airline passengers: monthly totals in thousands. Jan 49 ? Dec 60  \n",
       "0                                              112.0                               \n",
       "1                                              118.0                               \n",
       "2                                              132.0                               \n",
       "3                                              129.0                               \n",
       "4                                              121.0                               "
      ]
     },
     "execution_count": 3,
     "metadata": {},
     "output_type": "execute_result"
    }
   ],
   "source": [
    "df.head()"
   ]
  },
  {
   "cell_type": "code",
   "execution_count": 4,
   "id": "a8ff6986-b48b-4125-8b43-749d07cd44f1",
   "metadata": {},
   "outputs": [
    {
     "data": {
      "text/plain": [
       "Index(['Month', 'International airline passengers: monthly totals in thousands. Jan 49 ? Dec 60'], dtype='object')"
      ]
     },
     "execution_count": 4,
     "metadata": {},
     "output_type": "execute_result"
    }
   ],
   "source": [
    "df.columns"
   ]
  },
  {
   "cell_type": "code",
   "execution_count": 5,
   "id": "f56bfd7f-07b0-4465-88a4-18efbbd1e93c",
   "metadata": {},
   "outputs": [],
   "source": [
    "df.columns = [\"Month\", \"Passengers\"]"
   ]
  },
  {
   "cell_type": "code",
   "execution_count": 6,
   "id": "d4d12281-fa3b-47ef-8321-9059283bb9c9",
   "metadata": {},
   "outputs": [
    {
     "data": {
      "text/html": [
       "<div>\n",
       "<style scoped>\n",
       "    .dataframe tbody tr th:only-of-type {\n",
       "        vertical-align: middle;\n",
       "    }\n",
       "\n",
       "    .dataframe tbody tr th {\n",
       "        vertical-align: top;\n",
       "    }\n",
       "\n",
       "    .dataframe thead th {\n",
       "        text-align: right;\n",
       "    }\n",
       "</style>\n",
       "<table border=\"1\" class=\"dataframe\">\n",
       "  <thead>\n",
       "    <tr style=\"text-align: right;\">\n",
       "      <th></th>\n",
       "      <th>Month</th>\n",
       "      <th>Passengers</th>\n",
       "    </tr>\n",
       "  </thead>\n",
       "  <tbody>\n",
       "    <tr>\n",
       "      <th>0</th>\n",
       "      <td>1949-01</td>\n",
       "      <td>112.0</td>\n",
       "    </tr>\n",
       "    <tr>\n",
       "      <th>1</th>\n",
       "      <td>1949-02</td>\n",
       "      <td>118.0</td>\n",
       "    </tr>\n",
       "    <tr>\n",
       "      <th>2</th>\n",
       "      <td>1949-03</td>\n",
       "      <td>132.0</td>\n",
       "    </tr>\n",
       "    <tr>\n",
       "      <th>3</th>\n",
       "      <td>1949-04</td>\n",
       "      <td>129.0</td>\n",
       "    </tr>\n",
       "    <tr>\n",
       "      <th>4</th>\n",
       "      <td>1949-05</td>\n",
       "      <td>121.0</td>\n",
       "    </tr>\n",
       "  </tbody>\n",
       "</table>\n",
       "</div>"
      ],
      "text/plain": [
       "     Month  Passengers\n",
       "0  1949-01       112.0\n",
       "1  1949-02       118.0\n",
       "2  1949-03       132.0\n",
       "3  1949-04       129.0\n",
       "4  1949-05       121.0"
      ]
     },
     "execution_count": 6,
     "metadata": {},
     "output_type": "execute_result"
    }
   ],
   "source": [
    "df.head()"
   ]
  },
  {
   "cell_type": "code",
   "execution_count": 7,
   "id": "52cdda5d-30de-4183-9838-33b22fe68267",
   "metadata": {},
   "outputs": [
    {
     "data": {
      "text/html": [
       "<div>\n",
       "<style scoped>\n",
       "    .dataframe tbody tr th:only-of-type {\n",
       "        vertical-align: middle;\n",
       "    }\n",
       "\n",
       "    .dataframe tbody tr th {\n",
       "        vertical-align: top;\n",
       "    }\n",
       "\n",
       "    .dataframe thead th {\n",
       "        text-align: right;\n",
       "    }\n",
       "</style>\n",
       "<table border=\"1\" class=\"dataframe\">\n",
       "  <thead>\n",
       "    <tr style=\"text-align: right;\">\n",
       "      <th></th>\n",
       "      <th>Month</th>\n",
       "      <th>Passengers</th>\n",
       "    </tr>\n",
       "  </thead>\n",
       "  <tbody>\n",
       "    <tr>\n",
       "      <th>140</th>\n",
       "      <td>1960-09</td>\n",
       "      <td>508.0</td>\n",
       "    </tr>\n",
       "    <tr>\n",
       "      <th>141</th>\n",
       "      <td>1960-10</td>\n",
       "      <td>461.0</td>\n",
       "    </tr>\n",
       "    <tr>\n",
       "      <th>142</th>\n",
       "      <td>1960-11</td>\n",
       "      <td>390.0</td>\n",
       "    </tr>\n",
       "    <tr>\n",
       "      <th>143</th>\n",
       "      <td>1960-12</td>\n",
       "      <td>432.0</td>\n",
       "    </tr>\n",
       "    <tr>\n",
       "      <th>144</th>\n",
       "      <td>International airline passengers: monthly tota...</td>\n",
       "      <td>NaN</td>\n",
       "    </tr>\n",
       "  </tbody>\n",
       "</table>\n",
       "</div>"
      ],
      "text/plain": [
       "                                                 Month  Passengers\n",
       "140                                            1960-09       508.0\n",
       "141                                            1960-10       461.0\n",
       "142                                            1960-11       390.0\n",
       "143                                            1960-12       432.0\n",
       "144  International airline passengers: monthly tota...         NaN"
      ]
     },
     "execution_count": 7,
     "metadata": {},
     "output_type": "execute_result"
    }
   ],
   "source": [
    "df.tail()"
   ]
  },
  {
   "cell_type": "code",
   "execution_count": 8,
   "id": "54621f4a-0e1e-42c8-ba6f-205ce9aec846",
   "metadata": {},
   "outputs": [
    {
     "data": {
      "text/plain": [
       "(145, 2)"
      ]
     },
     "execution_count": 8,
     "metadata": {},
     "output_type": "execute_result"
    }
   ],
   "source": [
    "df.shape"
   ]
  },
  {
   "cell_type": "code",
   "execution_count": 9,
   "id": "59f508eb-df93-4799-90fc-581d41555b98",
   "metadata": {},
   "outputs": [
    {
     "data": {
      "text/plain": [
       "Month          object\n",
       "Passengers    float64\n",
       "dtype: object"
      ]
     },
     "execution_count": 9,
     "metadata": {},
     "output_type": "execute_result"
    }
   ],
   "source": [
    "df.dtypes"
   ]
  },
  {
   "cell_type": "code",
   "execution_count": 10,
   "id": "a0548d46-be11-43f6-a101-d1fd0da626ae",
   "metadata": {},
   "outputs": [
    {
     "data": {
      "text/plain": [
       "Month         0\n",
       "Passengers    1\n",
       "dtype: int64"
      ]
     },
     "execution_count": 10,
     "metadata": {},
     "output_type": "execute_result"
    }
   ],
   "source": [
    "df.isnull().sum()"
   ]
  },
  {
   "cell_type": "code",
   "execution_count": 11,
   "id": "fc03777b-3317-4752-983a-37a9b1b45a92",
   "metadata": {},
   "outputs": [
    {
     "data": {
      "text/html": [
       "<div>\n",
       "<style scoped>\n",
       "    .dataframe tbody tr th:only-of-type {\n",
       "        vertical-align: middle;\n",
       "    }\n",
       "\n",
       "    .dataframe tbody tr th {\n",
       "        vertical-align: top;\n",
       "    }\n",
       "\n",
       "    .dataframe thead th {\n",
       "        text-align: right;\n",
       "    }\n",
       "</style>\n",
       "<table border=\"1\" class=\"dataframe\">\n",
       "  <thead>\n",
       "    <tr style=\"text-align: right;\">\n",
       "      <th></th>\n",
       "      <th>count</th>\n",
       "      <th>mean</th>\n",
       "      <th>std</th>\n",
       "      <th>min</th>\n",
       "      <th>25%</th>\n",
       "      <th>50%</th>\n",
       "      <th>75%</th>\n",
       "      <th>max</th>\n",
       "    </tr>\n",
       "  </thead>\n",
       "  <tbody>\n",
       "    <tr>\n",
       "      <th>Passengers</th>\n",
       "      <td>144.0</td>\n",
       "      <td>280.298611</td>\n",
       "      <td>119.966317</td>\n",
       "      <td>104.0</td>\n",
       "      <td>180.0</td>\n",
       "      <td>265.5</td>\n",
       "      <td>360.5</td>\n",
       "      <td>622.0</td>\n",
       "    </tr>\n",
       "  </tbody>\n",
       "</table>\n",
       "</div>"
      ],
      "text/plain": [
       "            count        mean         std    min    25%    50%    75%    max\n",
       "Passengers  144.0  280.298611  119.966317  104.0  180.0  265.5  360.5  622.0"
      ]
     },
     "execution_count": 11,
     "metadata": {},
     "output_type": "execute_result"
    }
   ],
   "source": [
    "df.describe().T"
   ]
  },
  {
   "cell_type": "markdown",
   "id": "fa1e02c9-bae0-4a20-af66-ecf300e9c4e8",
   "metadata": {},
   "source": [
    "### 3) Veriyi Hazırlamak (Data Preparation)"
   ]
  },
  {
   "cell_type": "code",
   "execution_count": 12,
   "id": "4cb42810-6421-4f37-979e-727fdfd09d63",
   "metadata": {},
   "outputs": [],
   "source": [
    "df = df[:144]"
   ]
  },
  {
   "cell_type": "code",
   "execution_count": 13,
   "id": "e6a8959e-81b1-4698-a060-33ea141d9722",
   "metadata": {},
   "outputs": [
    {
     "data": {
      "text/html": [
       "<div>\n",
       "<style scoped>\n",
       "    .dataframe tbody tr th:only-of-type {\n",
       "        vertical-align: middle;\n",
       "    }\n",
       "\n",
       "    .dataframe tbody tr th {\n",
       "        vertical-align: top;\n",
       "    }\n",
       "\n",
       "    .dataframe thead th {\n",
       "        text-align: right;\n",
       "    }\n",
       "</style>\n",
       "<table border=\"1\" class=\"dataframe\">\n",
       "  <thead>\n",
       "    <tr style=\"text-align: right;\">\n",
       "      <th></th>\n",
       "      <th>Month</th>\n",
       "      <th>Passengers</th>\n",
       "    </tr>\n",
       "  </thead>\n",
       "  <tbody>\n",
       "    <tr>\n",
       "      <th>139</th>\n",
       "      <td>1960-08</td>\n",
       "      <td>606.0</td>\n",
       "    </tr>\n",
       "    <tr>\n",
       "      <th>140</th>\n",
       "      <td>1960-09</td>\n",
       "      <td>508.0</td>\n",
       "    </tr>\n",
       "    <tr>\n",
       "      <th>141</th>\n",
       "      <td>1960-10</td>\n",
       "      <td>461.0</td>\n",
       "    </tr>\n",
       "    <tr>\n",
       "      <th>142</th>\n",
       "      <td>1960-11</td>\n",
       "      <td>390.0</td>\n",
       "    </tr>\n",
       "    <tr>\n",
       "      <th>143</th>\n",
       "      <td>1960-12</td>\n",
       "      <td>432.0</td>\n",
       "    </tr>\n",
       "  </tbody>\n",
       "</table>\n",
       "</div>"
      ],
      "text/plain": [
       "       Month  Passengers\n",
       "139  1960-08       606.0\n",
       "140  1960-09       508.0\n",
       "141  1960-10       461.0\n",
       "142  1960-11       390.0\n",
       "143  1960-12       432.0"
      ]
     },
     "execution_count": 13,
     "metadata": {},
     "output_type": "execute_result"
    }
   ],
   "source": [
    "df.tail()"
   ]
  },
  {
   "cell_type": "code",
   "execution_count": 14,
   "id": "ff41bcb5-bdc0-4c21-8933-bd16dd8aa760",
   "metadata": {},
   "outputs": [
    {
     "name": "stdout",
     "output_type": "stream",
     "text": [
      "<class 'pandas.core.frame.DataFrame'>\n",
      "RangeIndex: 144 entries, 0 to 143\n",
      "Data columns (total 2 columns):\n",
      " #   Column      Non-Null Count  Dtype  \n",
      "---  ------      --------------  -----  \n",
      " 0   Month       144 non-null    object \n",
      " 1   Passengers  144 non-null    float64\n",
      "dtypes: float64(1), object(1)\n",
      "memory usage: 2.4+ KB\n"
     ]
    }
   ],
   "source": [
    "df.info()"
   ]
  },
  {
   "cell_type": "code",
   "execution_count": 15,
   "id": "bd30c974-bdf3-438b-8877-c045e1075dc3",
   "metadata": {},
   "outputs": [],
   "source": [
    "df[\"Month\"] = pd.to_datetime(df[\"Month\"])"
   ]
  },
  {
   "cell_type": "code",
   "execution_count": 16,
   "id": "417cfadc-e9db-4521-98e0-c198512de5bb",
   "metadata": {},
   "outputs": [
    {
     "name": "stdout",
     "output_type": "stream",
     "text": [
      "<class 'pandas.core.frame.DataFrame'>\n",
      "RangeIndex: 144 entries, 0 to 143\n",
      "Data columns (total 2 columns):\n",
      " #   Column      Non-Null Count  Dtype         \n",
      "---  ------      --------------  -----         \n",
      " 0   Month       144 non-null    datetime64[ns]\n",
      " 1   Passengers  144 non-null    float64       \n",
      "dtypes: datetime64[ns](1), float64(1)\n",
      "memory usage: 2.4 KB\n"
     ]
    }
   ],
   "source": [
    "df.info()"
   ]
  },
  {
   "cell_type": "code",
   "execution_count": 17,
   "id": "88f163bd-11e6-46bc-9a25-4d2f712efcf3",
   "metadata": {},
   "outputs": [
    {
     "name": "stdout",
     "output_type": "stream",
     "text": [
      "Minimum Tarih: 1949-01-01 00:00:00\n",
      "Maximum Tarih: 1960-12-01 00:00:00\n"
     ]
    }
   ],
   "source": [
    "print(\"Minimum Tarih:\", df[\"Month\"].min())\n",
    "print(\"Maximum Tarih:\", df[\"Month\"].max())"
   ]
  },
  {
   "cell_type": "code",
   "execution_count": 18,
   "id": "b4f0529f-65ba-4f2b-9c7b-a9f14af63511",
   "metadata": {},
   "outputs": [],
   "source": [
    "df.index = df[\"Month\"]\n",
    "df.drop(columns=\"Month\", axis=1, inplace=True)"
   ]
  },
  {
   "cell_type": "code",
   "execution_count": 19,
   "id": "b73588b8-d277-4c7e-8045-a0dd7b2d0507",
   "metadata": {},
   "outputs": [
    {
     "data": {
      "text/html": [
       "<div>\n",
       "<style scoped>\n",
       "    .dataframe tbody tr th:only-of-type {\n",
       "        vertical-align: middle;\n",
       "    }\n",
       "\n",
       "    .dataframe tbody tr th {\n",
       "        vertical-align: top;\n",
       "    }\n",
       "\n",
       "    .dataframe thead th {\n",
       "        text-align: right;\n",
       "    }\n",
       "</style>\n",
       "<table border=\"1\" class=\"dataframe\">\n",
       "  <thead>\n",
       "    <tr style=\"text-align: right;\">\n",
       "      <th></th>\n",
       "      <th>Passengers</th>\n",
       "    </tr>\n",
       "    <tr>\n",
       "      <th>Month</th>\n",
       "      <th></th>\n",
       "    </tr>\n",
       "  </thead>\n",
       "  <tbody>\n",
       "    <tr>\n",
       "      <th>1949-01-01</th>\n",
       "      <td>112.0</td>\n",
       "    </tr>\n",
       "    <tr>\n",
       "      <th>1949-02-01</th>\n",
       "      <td>118.0</td>\n",
       "    </tr>\n",
       "    <tr>\n",
       "      <th>1949-03-01</th>\n",
       "      <td>132.0</td>\n",
       "    </tr>\n",
       "    <tr>\n",
       "      <th>1949-04-01</th>\n",
       "      <td>129.0</td>\n",
       "    </tr>\n",
       "    <tr>\n",
       "      <th>1949-05-01</th>\n",
       "      <td>121.0</td>\n",
       "    </tr>\n",
       "  </tbody>\n",
       "</table>\n",
       "</div>"
      ],
      "text/plain": [
       "            Passengers\n",
       "Month                 \n",
       "1949-01-01       112.0\n",
       "1949-02-01       118.0\n",
       "1949-03-01       132.0\n",
       "1949-04-01       129.0\n",
       "1949-05-01       121.0"
      ]
     },
     "execution_count": 19,
     "metadata": {},
     "output_type": "execute_result"
    }
   ],
   "source": [
    "df.head()"
   ]
  },
  {
   "cell_type": "code",
   "execution_count": 20,
   "id": "4f67b9ba-a826-4274-940d-3d9aec3c0de0",
   "metadata": {},
   "outputs": [],
   "source": [
    "result_df = df.copy()"
   ]
  },
  {
   "cell_type": "code",
   "execution_count": 21,
   "id": "556d33ad-ffcd-4f84-9c62-2a36e68031c9",
   "metadata": {},
   "outputs": [
    {
     "data": {
      "image/png": "[encoded data removed]",
      "text/plain": [
       "<Figure size 700x400 with 1 Axes>"
      ]
     },
     "metadata": {},
     "output_type": "display_data"
    }
   ],
   "source": [
    "df.plot(figsize=(7,4), title=\"Monthly Airline Passengers\");"
   ]
  },
  {
   "cell_type": "code",
   "execution_count": 22,
   "id": "7ff1d90f-5ea7-402c-9685-4a9c44f20bce",
   "metadata": {},
   "outputs": [],
   "source": [
    "data = df[\"Passengers\"].values"
   ]
  },
  {
   "cell_type": "code",
   "execution_count": 23,
   "id": "bdcc3176-1a7a-4fd6-868b-5bc099ecaf49",
   "metadata": {},
   "outputs": [
    {
     "data": {
      "text/plain": [
       "array([112., 118., 132., 129., 121.])"
      ]
     },
     "execution_count": 23,
     "metadata": {},
     "output_type": "execute_result"
    }
   ],
   "source": [
    "data[0:5]"
   ]
  },
  {
   "cell_type": "code",
   "execution_count": 24,
   "id": "fe7abf75-76a4-4004-b8d4-67f4991903c0",
   "metadata": {},
   "outputs": [
    {
     "data": {
      "text/plain": [
       "numpy.ndarray"
      ]
     },
     "execution_count": 24,
     "metadata": {},
     "output_type": "execute_result"
    }
   ],
   "source": [
    "type(data[0:5])"
   ]
  },
  {
   "cell_type": "code",
   "execution_count": 25,
   "id": "edb7acea-8495-4bb7-9e02-b53c78f98547",
   "metadata": {},
   "outputs": [
    {
     "data": {
      "text/plain": [
       "numpy.float64"
      ]
     },
     "execution_count": 25,
     "metadata": {},
     "output_type": "execute_result"
    }
   ],
   "source": [
    "type(data[0])"
   ]
  },
  {
   "cell_type": "code",
   "execution_count": 26,
   "id": "346d870f-0d15-4673-9984-afb3bc51d36f",
   "metadata": {},
   "outputs": [],
   "source": [
    "data = data.astype(\"float32\")"
   ]
  },
  {
   "cell_type": "code",
   "execution_count": 27,
   "id": "d1b7a70d-92d1-4ae3-ba1c-07c8873f927f",
   "metadata": {},
   "outputs": [
    {
     "data": {
      "text/plain": [
       "numpy.float32"
      ]
     },
     "execution_count": 27,
     "metadata": {},
     "output_type": "execute_result"
    }
   ],
   "source": [
    "type(data[0])"
   ]
  },
  {
   "cell_type": "code",
   "execution_count": 28,
   "id": "8d6449c3-2995-406c-8951-7321f49c6fd9",
   "metadata": {},
   "outputs": [
    {
     "data": {
      "text/plain": [
       "(144,)"
      ]
     },
     "execution_count": 28,
     "metadata": {},
     "output_type": "execute_result"
    }
   ],
   "source": [
    "data.shape"
   ]
  },
  {
   "cell_type": "code",
   "execution_count": 29,
   "id": "a1a31528-3b82-40cf-8c9a-b80f7e831d0c",
   "metadata": {},
   "outputs": [],
   "source": [
    "data = data.reshape(-1,1)"
   ]
  },
  {
   "cell_type": "code",
   "execution_count": 30,
   "id": "de78ab23-f290-4b21-82ac-8ca3335660e5",
   "metadata": {},
   "outputs": [
    {
     "data": {
      "text/plain": [
       "(144, 1)"
      ]
     },
     "execution_count": 30,
     "metadata": {},
     "output_type": "execute_result"
    }
   ],
   "source": [
    "data.shape"
   ]
  },
  {
   "cell_type": "code",
   "execution_count": 31,
   "id": "b20e5f6d-772f-4a99-bf18-b4365eed3911",
   "metadata": {},
   "outputs": [],
   "source": [
    "# Zaman serilerinde zamansallık bozulacağı için random bir şekilde train_test_split yapamıyoruz bu yüzden aşağıdaki gibi bir fonksiyon tanımladık.\n",
    "\n",
    "def split_data(dataframe, test_size):\n",
    "    position = int(round(len(dataframe) * (1-test_size)))\n",
    "    train = dataframe[:position]\n",
    "    test = dataframe[position:]\n",
    "    return train, test, position"
   ]
  },
  {
   "cell_type": "code",
   "execution_count": 32,
   "id": "d9ef7356-1734-478f-9b69-a7ed8ff2482d",
   "metadata": {},
   "outputs": [],
   "source": [
    "train, test, position = split_data(data, 0.33)"
   ]
  },
  {
   "cell_type": "code",
   "execution_count": 33,
   "id": "a7febfb6-9458-4abb-96f1-caea075c97dc",
   "metadata": {},
   "outputs": [
    {
     "name": "stdout",
     "output_type": "stream",
     "text": [
      "(96, 1) (48, 1)\n"
     ]
    }
   ],
   "source": [
    "print(train.shape, test.shape)"
   ]
  },
  {
   "cell_type": "code",
   "execution_count": 34,
   "id": "bcb4fec8-3fe6-4e03-8586-71d5de6d6f2f",
   "metadata": {},
   "outputs": [],
   "source": [
    "# Data leakage olmaması için train ve test setlerini ayrı ayrı standartlaştırıyoruz."
   ]
  },
  {
   "cell_type": "code",
   "execution_count": 35,
   "id": "c958ac32-a865-4e07-951d-709b54ad257b",
   "metadata": {},
   "outputs": [],
   "source": [
    "scaler_train = MinMaxScaler(feature_range = (0, 1))"
   ]
  },
  {
   "cell_type": "code",
   "execution_count": 36,
   "id": "51a43d12-474f-4bcb-aa06-650baa67df51",
   "metadata": {},
   "outputs": [],
   "source": [
    "train = scaler_train.fit_transform(train)"
   ]
  },
  {
   "cell_type": "code",
   "execution_count": 37,
   "id": "8c26e1b2-c900-44df-9698-c18935bd5d7f",
   "metadata": {},
   "outputs": [],
   "source": [
    "scaler_test = MinMaxScaler(feature_range = (0, 1))"
   ]
  },
  {
   "cell_type": "code",
   "execution_count": 38,
   "id": "109f6da6-9bbf-48a5-9fd3-9aadfb52185a",
   "metadata": {},
   "outputs": [],
   "source": [
    "test = scaler_test.fit_transform(test)"
   ]
  },
  {
   "cell_type": "code",
   "execution_count": 39,
   "id": "e908d1f0-2b0a-4e3e-8268-52cbdd7c2372",
   "metadata": {},
   "outputs": [
    {
     "data": {
      "text/plain": [
       "array([[0.02588999],\n",
       "       [0.04530746],\n",
       "       [0.09061491],\n",
       "       [0.08090615],\n",
       "       [0.05501619]], dtype=float32)"
      ]
     },
     "execution_count": 39,
     "metadata": {},
     "output_type": "execute_result"
    }
   ],
   "source": [
    "train[0:5]"
   ]
  },
  {
   "cell_type": "code",
   "execution_count": 40,
   "id": "ead0f451-91c5-44e8-9407-ba340d7dce93",
   "metadata": {},
   "outputs": [
    {
     "data": {
      "text/plain": [
       "array([[0.04361373],\n",
       "       [0.        ],\n",
       "       [0.17133951],\n",
       "       [0.1464175 ],\n",
       "       [0.16822433]], dtype=float32)"
      ]
     },
     "execution_count": 40,
     "metadata": {},
     "output_type": "execute_result"
    }
   ],
   "source": [
    "test[0:5]"
   ]
  },
  {
   "cell_type": "code",
   "execution_count": 41,
   "id": "3a8f672d-c89e-4e51-b706-fe1c3642f038",
   "metadata": {},
   "outputs": [],
   "source": [
    "def create_features(data, lookback):\n",
    "    X, Y = [], []\n",
    "    for i in range(lookback, len(data)):\n",
    "        X.append(data[i-lookback:i,0])\n",
    "        Y.append(data[i,0])\n",
    "    \n",
    "    return np.array(X), np.array(Y)"
   ]
  },
  {
   "cell_type": "code",
   "execution_count": 42,
   "id": "dd58e6f3-1245-4353-89d7-367fddd47134",
   "metadata": {},
   "outputs": [],
   "source": [
    "lookback = 1"
   ]
  },
  {
   "cell_type": "code",
   "execution_count": 43,
   "id": "2f511d27-b435-4ee5-bc40-48652ca86eba",
   "metadata": {},
   "outputs": [],
   "source": [
    "# Train Veri Seti\n",
    "X_train, y_train = create_features(train, lookback)"
   ]
  },
  {
   "cell_type": "code",
   "execution_count": 44,
   "id": "80716d59-9e31-409f-b160-af323cd5725c",
   "metadata": {},
   "outputs": [],
   "source": [
    "# Test Veri Seti\n",
    "X_test, y_test = create_features(test, lookback)"
   ]
  },
  {
   "cell_type": "code",
   "execution_count": 45,
   "id": "b3e9cf3b-af6c-4d1a-b6f4-bb9439fbb472",
   "metadata": {},
   "outputs": [
    {
     "name": "stdout",
     "output_type": "stream",
     "text": [
      "(95, 1) (95,) (47, 1) (47,)\n"
     ]
    }
   ],
   "source": [
    "print(X_train.shape, y_train.shape, X_test.shape, y_test.shape)"
   ]
  },
  {
   "cell_type": "code",
   "execution_count": 46,
   "id": "569b7032-4150-4faf-aff9-c898d0a6fde4",
   "metadata": {},
   "outputs": [],
   "source": [
    "X_train = np.reshape(X_train, (X_train.shape[0], 1, X_train.shape[1]))\n",
    "X_test = np.reshape(X_test, (X_test.shape[0], 1, X_test.shape[1]))\n",
    "y_train = y_train.reshape(-1, 1)\n",
    "y_test = y_test.reshape(-1, 1)"
   ]
  },
  {
   "cell_type": "code",
   "execution_count": 47,
   "id": "8f1f705b-7d53-4579-b5a7-39e2fb72e2cb",
   "metadata": {},
   "outputs": [
    {
     "name": "stdout",
     "output_type": "stream",
     "text": [
      "(95, 1, 1) (95, 1) (47, 1, 1) (47, 1)\n"
     ]
    }
   ],
   "source": [
    "print(X_train.shape, y_train.shape, X_test.shape, y_test.shape)"
   ]
  },
  {
   "cell_type": "markdown",
   "id": "a45eb165-ca4f-4509-8b51-2185db36654e",
   "metadata": {},
   "source": [
    "### 4) Modelleme (Modeling)"
   ]
  },
  {
   "cell_type": "code",
   "execution_count": 48,
   "id": "612ae8b1-51b6-46cf-b667-2947fe492df7",
   "metadata": {},
   "outputs": [],
   "source": [
    "model = Sequential()\n",
    "\n",
    "model.add(SimpleRNN(units=50,\n",
    "                   activation=\"relu\",\n",
    "                   input_shape=(X_train.shape[1], lookback)))\n",
    "model.add(Dropout(0.2))\n",
    "model.add(Dense(1))"
   ]
  },
  {
   "cell_type": "code",
   "execution_count": 49,
   "id": "bcc4f3e0-e3ff-46cf-985c-f219e2a3b067",
   "metadata": {},
   "outputs": [
    {
     "name": "stdout",
     "output_type": "stream",
     "text": [
      "Model: \"sequential\"\n",
      "_________________________________________________________________\n",
      " Layer (type)                Output Shape              Param #   \n",
      "=================================================================\n",
      " simple_rnn (SimpleRNN)      (None, 50)                2600      \n",
      "                                                                 \n",
      " dropout (Dropout)           (None, 50)                0         \n",
      "                                                                 \n",
      " dense (Dense)               (None, 1)                 51        \n",
      "                                                                 \n",
      "=================================================================\n",
      "Total params: 2651 (10.36 KB)\n",
      "Trainable params: 2651 (10.36 KB)\n",
      "Non-trainable params: 0 (0.00 Byte)\n",
      "_________________________________________________________________\n"
     ]
    }
   ],
   "source": [
    "model.summary()"
   ]
  },
  {
   "cell_type": "code",
   "execution_count": 50,
   "id": "aa78d021-ecb9-470f-b71e-940470c56671",
   "metadata": {},
   "outputs": [],
   "source": [
    "# Optimizasyon ve Değerlendirme Metriklerinin Ayarlanması\n",
    "\n",
    "model.compile(loss=\"mean_squared_error\", optimizer=\"adam\")"
   ]
  },
  {
   "cell_type": "code",
   "execution_count": 51,
   "id": "a81d4d6d-de4d-4db3-a9f3-9eff999f0fbf",
   "metadata": {},
   "outputs": [],
   "source": [
    "callbacks = [EarlyStopping(monitor=\"val_loss\", patience=3, verbose=1, mode=\"min\"),\n",
    "            ModelCheckpoint(filepath=\"mymodel.h5\", monitor=\"val_loss\", mode=\"min\", save_best_only=True, save_weights_only=False, verbose=1)]"
   ]
  },
  {
   "cell_type": "code",
   "execution_count": 52,
   "id": "008b98fa-450d-4695-ad90-412bea345c78",
   "metadata": {},
   "outputs": [
    {
     "name": "stdout",
     "output_type": "stream",
     "text": [
      "Epoch 1/100\n",
      " 1/95 [..............................] - ETA: 17s - loss: 0.0030\n",
      "Epoch 1: val_loss improved from inf to 0.03298, saving model to mymodel.h5\n",
      "95/95 [==============================] - 0s 1ms/step - loss: 0.0476 - val_loss: 0.0330\n",
      "Epoch 2/100\n",
      "82/95 [========================>.....] - ETA: 0s - loss: 0.0239\n",
      "Epoch 2: val_loss improved from 0.03298 to 0.03047, saving model to mymodel.h5\n",
      "95/95 [==============================] - 0s 825us/step - loss: 0.0316 - val_loss: 0.0305\n",
      "Epoch 3/100\n",
      " 1/95 [..............................] - ETA: 0s - loss: 0.0692\n",
      "Epoch 3: val_loss improved from 0.03047 to 0.02796, saving model to mymodel.h5\n",
      "95/95 [==============================] - 0s 544us/step - loss: 0.0252 - val_loss: 0.0280\n",
      "Epoch 4/100\n",
      " 1/95 [..............................] - ETA: 0s - loss: 0.0564\n",
      "Epoch 4: val_loss improved from 0.02796 to 0.02615, saving model to mymodel.h5\n",
      "95/95 [==============================] - 0s 574us/step - loss: 0.0235 - val_loss: 0.0262\n",
      "Epoch 5/100\n",
      " 1/95 [..............................] - ETA: 0s - loss: 0.0232\n",
      "Epoch 5: val_loss improved from 0.02615 to 0.02429, saving model to mymodel.h5\n",
      "95/95 [==============================] - 0s 551us/step - loss: 0.0199 - val_loss: 0.0243\n",
      "Epoch 6/100\n",
      " 1/95 [..............................] - ETA: 0s - loss: 0.0275\n",
      "Epoch 6: val_loss improved from 0.02429 to 0.02223, saving model to mymodel.h5\n",
      "95/95 [==============================] - 0s 557us/step - loss: 0.0145 - val_loss: 0.0222\n",
      "Epoch 7/100\n",
      " 1/95 [..............................] - ETA: 0s - loss: 0.0154\n",
      "Epoch 7: val_loss improved from 0.02223 to 0.02114, saving model to mymodel.h5\n",
      "95/95 [==============================] - 0s 560us/step - loss: 0.0127 - val_loss: 0.0211\n",
      "Epoch 8/100\n",
      " 1/95 [..............................] - ETA: 0s - loss: 0.0113\n",
      "Epoch 8: val_loss did not improve from 0.02114\n",
      "95/95 [==============================] - 0s 528us/step - loss: 0.0158 - val_loss: 0.0221\n",
      "Epoch 9/100\n",
      " 1/95 [..............................] - ETA: 0s - loss: 0.0077\n",
      "Epoch 9: val_loss improved from 0.02114 to 0.02108, saving model to mymodel.h5\n",
      "95/95 [==============================] - 0s 561us/step - loss: 0.0132 - val_loss: 0.0211\n",
      "Epoch 10/100\n",
      " 1/95 [..............................] - ETA: 0s - loss: 0.0054\n",
      "Epoch 10: val_loss improved from 0.02108 to 0.02090, saving model to mymodel.h5\n",
      "95/95 [==============================] - 0s 552us/step - loss: 0.0105 - val_loss: 0.0209\n",
      "Epoch 11/100\n",
      " 1/95 [..............................] - ETA: 0s - loss: 0.0031\n",
      "Epoch 11: val_loss did not improve from 0.02090\n",
      "95/95 [==============================] - 0s 528us/step - loss: 0.0114 - val_loss: 0.0212\n",
      "Epoch 12/100\n",
      " 1/95 [..............................] - ETA: 0s - loss: 0.0030\n",
      "Epoch 12: val_loss improved from 0.02090 to 0.02071, saving model to mymodel.h5\n",
      "95/95 [==============================] - 0s 554us/step - loss: 0.0087 - val_loss: 0.0207\n",
      "Epoch 13/100\n",
      " 1/95 [..............................] - ETA: 0s - loss: 0.0022\n",
      "Epoch 13: val_loss did not improve from 0.02071\n",
      "95/95 [==============================] - 0s 528us/step - loss: 0.0071 - val_loss: 0.0212\n",
      "Epoch 14/100\n",
      " 1/95 [..............................] - ETA: 0s - loss: 0.0027\n",
      "Epoch 14: val_loss improved from 0.02071 to 0.02047, saving model to mymodel.h5\n",
      "95/95 [==============================] - 0s 561us/step - loss: 0.0094 - val_loss: 0.0205\n",
      "Epoch 15/100\n",
      " 1/95 [..............................] - ETA: 0s - loss: 0.0019\n",
      "Epoch 15: val_loss did not improve from 0.02047\n",
      "95/95 [==============================] - 0s 527us/step - loss: 0.0066 - val_loss: 0.0205\n",
      "Epoch 16/100\n",
      " 1/95 [..............................] - ETA: 0s - loss: 0.0018\n",
      "Epoch 16: val_loss did not improve from 0.02047\n",
      "95/95 [==============================] - 0s 501us/step - loss: 0.0070 - val_loss: 0.0210\n",
      "Epoch 17/100\n",
      "86/95 [==========================>...] - ETA: 0s - loss: 0.0070\n",
      "Epoch 17: val_loss did not improve from 0.02047\n",
      "95/95 [==============================] - 0s 748us/step - loss: 0.0074 - val_loss: 0.0212\n",
      "Epoch 17: early stopping\n"
     ]
    }
   ],
   "source": [
    "history = model.fit(x=X_train,\n",
    "                   y=y_train,\n",
    "                   epochs=100,\n",
    "                   batch_size=1,\n",
    "                   validation_data=(X_test, y_test),\n",
    "                   callbacks=callbacks,\n",
    "                   shuffle=False)"
   ]
  },
  {
   "cell_type": "markdown",
   "id": "037f75ad-3906-4445-8a11-69e89acb2ba1",
   "metadata": {},
   "source": [
    "### 5) Değerlendirme (Evaluation)"
   ]
  },
  {
   "cell_type": "code",
   "execution_count": 53,
   "id": "895d628d-5ec4-42e8-b3cd-1caa4ee22059",
   "metadata": {},
   "outputs": [
    {
     "data": {
      "image/png": "[encoded data removed]",
      "text/plain": [
       "<Figure size 2000x500 with 1 Axes>"
      ]
     },
     "metadata": {},
     "output_type": "display_data"
    }
   ],
   "source": [
    "plt.figure(figsize=(20, 5))\n",
    "plt.subplot(1, 2, 2)\n",
    "plt.plot(history.history[\"loss\"], label=\"Training Loss\")\n",
    "plt.plot(history.history[\"val_loss\"], label=\"Validation Loss\")\n",
    "plt.legend(loc=\"upper right\")\n",
    "plt.xlabel(\"Epoch\", fontsize=16)\n",
    "plt.ylabel(\"Loss\", fontsize=16)\n",
    "plt.ylim([0, max(plt.ylim())])\n",
    "plt.title(\"Training and Validation Loss\", fontsize=16)\n",
    "plt.show()"
   ]
  },
  {
   "cell_type": "code",
   "execution_count": 54,
   "id": "1b8404f4-397d-4ba6-bcf0-ab1e51c82508",
   "metadata": {},
   "outputs": [
    {
     "name": "stdout",
     "output_type": "stream",
     "text": [
      "47/47 [==============================] - 0s 333us/step - loss: 0.0212\n",
      "\n",
      "Test Loss: 2.1%\n"
     ]
    }
   ],
   "source": [
    "loss = model.evaluate(X_test, y_test, batch_size=1)\n",
    "print(\"\\nTest Loss: %.1f%%\" % (100.0 * loss))"
   ]
  },
  {
   "cell_type": "code",
   "execution_count": 55,
   "id": "b93da7a8-00d0-4cde-ac33-00c827c73c2a",
   "metadata": {},
   "outputs": [
    {
     "name": "stdout",
     "output_type": "stream",
     "text": [
      "3/3 [==============================] - 0s 901us/step\n",
      "2/2 [==============================] - 0s 1ms/step\n"
     ]
    }
   ],
   "source": [
    "train_predict = model.predict(X_train)\n",
    "test_predict = model.predict(X_test)"
   ]
  },
  {
   "cell_type": "code",
   "execution_count": 56,
   "id": "dcf3f793-6354-44ab-bc9c-3f240a7bf441",
   "metadata": {},
   "outputs": [],
   "source": [
    "train_predict = scaler_train.inverse_transform(train_predict)\n",
    "test_predict = scaler_test.inverse_transform(test_predict)"
   ]
  },
  {
   "cell_type": "code",
   "execution_count": 57,
   "id": "6a06ca16-1b38-4d43-bf68-47a832d452fe",
   "metadata": {},
   "outputs": [],
   "source": [
    "y_train = scaler_train.inverse_transform(y_train)\n",
    "y_test = scaler_test.inverse_transform(y_test)"
   ]
  },
  {
   "cell_type": "code",
   "execution_count": 58,
   "id": "a7a77397-6eda-4d7f-a27c-2014cc1e8559",
   "metadata": {},
   "outputs": [],
   "source": [
    "# Train Veri Setine Ait RMSE Değeri\n",
    "train_rmse = np.sqrt(mean_squared_error(y_train, train_predict))"
   ]
  },
  {
   "cell_type": "code",
   "execution_count": 59,
   "id": "304f531e-9897-47c3-a432-98d584a4dc9c",
   "metadata": {},
   "outputs": [],
   "source": [
    "# Test Veri Setine Ait RMSE Değeri\n",
    "test_rmse = np.sqrt(mean_squared_error(y_test, test_predict))"
   ]
  },
  {
   "cell_type": "code",
   "execution_count": 60,
   "id": "7a04f278-a1a5-4ff6-b22a-f6541549bb33",
   "metadata": {},
   "outputs": [
    {
     "name": "stdout",
     "output_type": "stream",
     "text": [
      "Train RMSE: 23.728437423706055\n",
      "Test RMSE: 46.77840805053711\n"
     ]
    }
   ],
   "source": [
    "print(f\"Train RMSE: {train_rmse}\")\n",
    "print(f\"Test RMSE: {test_rmse}\")"
   ]
  },
  {
   "cell_type": "code",
   "execution_count": 61,
   "id": "2e3d173c-7861-459e-9899-14f6c99292c4",
   "metadata": {},
   "outputs": [
    {
     "data": {
      "text/html": [
       "<div>\n",
       "<style scoped>\n",
       "    .dataframe tbody tr th:only-of-type {\n",
       "        vertical-align: middle;\n",
       "    }\n",
       "\n",
       "    .dataframe tbody tr th {\n",
       "        vertical-align: top;\n",
       "    }\n",
       "\n",
       "    .dataframe thead th {\n",
       "        text-align: right;\n",
       "    }\n",
       "</style>\n",
       "<table border=\"1\" class=\"dataframe\">\n",
       "  <thead>\n",
       "    <tr style=\"text-align: right;\">\n",
       "      <th></th>\n",
       "      <th>count</th>\n",
       "      <th>mean</th>\n",
       "      <th>std</th>\n",
       "      <th>min</th>\n",
       "      <th>25%</th>\n",
       "      <th>50%</th>\n",
       "      <th>75%</th>\n",
       "      <th>max</th>\n",
       "    </tr>\n",
       "  </thead>\n",
       "  <tbody>\n",
       "    <tr>\n",
       "      <th>Passengers</th>\n",
       "      <td>144.0</td>\n",
       "      <td>280.298611</td>\n",
       "      <td>119.966317</td>\n",
       "      <td>104.0</td>\n",
       "      <td>180.0</td>\n",
       "      <td>265.5</td>\n",
       "      <td>360.5</td>\n",
       "      <td>622.0</td>\n",
       "    </tr>\n",
       "  </tbody>\n",
       "</table>\n",
       "</div>"
      ],
      "text/plain": [
       "            count        mean         std    min    25%    50%    75%    max\n",
       "Passengers  144.0  280.298611  119.966317  104.0  180.0  265.5  360.5  622.0"
      ]
     },
     "execution_count": 61,
     "metadata": {},
     "output_type": "execute_result"
    }
   ],
   "source": [
    "df.describe().T"
   ]
  },
  {
   "cell_type": "code",
   "execution_count": 62,
   "id": "8dbd4a87-ec3e-486b-9008-9da7f29f9d52",
   "metadata": {},
   "outputs": [],
   "source": [
    "train_prediction = result_df[lookback:position]"
   ]
  },
  {
   "cell_type": "code",
   "execution_count": 63,
   "id": "1f5f08cf-f02a-4b7b-bc95-63254585e873",
   "metadata": {},
   "outputs": [],
   "source": [
    "train_prediction[\"Predicted\"] = train_predict"
   ]
  },
  {
   "cell_type": "code",
   "execution_count": 64,
   "id": "fc63227f-b765-47bf-9063-0b79ef19b568",
   "metadata": {},
   "outputs": [
    {
     "data": {
      "text/html": [
       "<div>\n",
       "<style scoped>\n",
       "    .dataframe tbody tr th:only-of-type {\n",
       "        vertical-align: middle;\n",
       "    }\n",
       "\n",
       "    .dataframe tbody tr th {\n",
       "        vertical-align: top;\n",
       "    }\n",
       "\n",
       "    .dataframe thead th {\n",
       "        text-align: right;\n",
       "    }\n",
       "</style>\n",
       "<table border=\"1\" class=\"dataframe\">\n",
       "  <thead>\n",
       "    <tr style=\"text-align: right;\">\n",
       "      <th></th>\n",
       "      <th>Passengers</th>\n",
       "      <th>Predicted</th>\n",
       "    </tr>\n",
       "    <tr>\n",
       "      <th>Month</th>\n",
       "      <th></th>\n",
       "      <th></th>\n",
       "    </tr>\n",
       "  </thead>\n",
       "  <tbody>\n",
       "    <tr>\n",
       "      <th>1949-02-01</th>\n",
       "      <td>118.0</td>\n",
       "      <td>133.829895</td>\n",
       "    </tr>\n",
       "    <tr>\n",
       "      <th>1949-03-01</th>\n",
       "      <td>132.0</td>\n",
       "      <td>135.646637</td>\n",
       "    </tr>\n",
       "    <tr>\n",
       "      <th>1949-04-01</th>\n",
       "      <td>129.0</td>\n",
       "      <td>145.948761</td>\n",
       "    </tr>\n",
       "    <tr>\n",
       "      <th>1949-05-01</th>\n",
       "      <td>121.0</td>\n",
       "      <td>143.273636</td>\n",
       "    </tr>\n",
       "    <tr>\n",
       "      <th>1949-06-01</th>\n",
       "      <td>135.0</td>\n",
       "      <td>137.366257</td>\n",
       "    </tr>\n",
       "  </tbody>\n",
       "</table>\n",
       "</div>"
      ],
      "text/plain": [
       "            Passengers   Predicted\n",
       "Month                             \n",
       "1949-02-01       118.0  133.829895\n",
       "1949-03-01       132.0  135.646637\n",
       "1949-04-01       129.0  145.948761\n",
       "1949-05-01       121.0  143.273636\n",
       "1949-06-01       135.0  137.366257"
      ]
     },
     "execution_count": 64,
     "metadata": {},
     "output_type": "execute_result"
    }
   ],
   "source": [
    "train_prediction.head()"
   ]
  },
  {
   "cell_type": "code",
   "execution_count": 65,
   "id": "5a9fe3fe-a56e-4887-a32e-a2ecfa5727f3",
   "metadata": {},
   "outputs": [
    {
     "data": {
      "text/html": [
       "<div>\n",
       "<style scoped>\n",
       "    .dataframe tbody tr th:only-of-type {\n",
       "        vertical-align: middle;\n",
       "    }\n",
       "\n",
       "    .dataframe tbody tr th {\n",
       "        vertical-align: top;\n",
       "    }\n",
       "\n",
       "    .dataframe thead th {\n",
       "        text-align: right;\n",
       "    }\n",
       "</style>\n",
       "<table border=\"1\" class=\"dataframe\">\n",
       "  <thead>\n",
       "    <tr style=\"text-align: right;\">\n",
       "      <th></th>\n",
       "      <th>Passengers</th>\n",
       "      <th>Predicted</th>\n",
       "    </tr>\n",
       "    <tr>\n",
       "      <th>Month</th>\n",
       "      <th></th>\n",
       "      <th></th>\n",
       "    </tr>\n",
       "  </thead>\n",
       "  <tbody>\n",
       "    <tr>\n",
       "      <th>1957-02-01</th>\n",
       "      <td>301.0</td>\n",
       "      <td>333.660461</td>\n",
       "    </tr>\n",
       "    <tr>\n",
       "      <th>1957-03-01</th>\n",
       "      <td>356.0</td>\n",
       "      <td>330.814911</td>\n",
       "    </tr>\n",
       "    <tr>\n",
       "      <th>1957-04-01</th>\n",
       "      <td>348.0</td>\n",
       "      <td>368.391083</td>\n",
       "    </tr>\n",
       "    <tr>\n",
       "      <th>1957-05-01</th>\n",
       "      <td>355.0</td>\n",
       "      <td>361.039246</td>\n",
       "    </tr>\n",
       "    <tr>\n",
       "      <th>1957-06-01</th>\n",
       "      <td>422.0</td>\n",
       "      <td>367.472137</td>\n",
       "    </tr>\n",
       "  </tbody>\n",
       "</table>\n",
       "</div>"
      ],
      "text/plain": [
       "            Passengers   Predicted\n",
       "Month                             \n",
       "1957-02-01       301.0  333.660461\n",
       "1957-03-01       356.0  330.814911\n",
       "1957-04-01       348.0  368.391083\n",
       "1957-05-01       355.0  361.039246\n",
       "1957-06-01       422.0  367.472137"
      ]
     },
     "execution_count": 65,
     "metadata": {},
     "output_type": "execute_result"
    }
   ],
   "source": [
    "test_prediction = result_df[position+lookback:]\n",
    "test_prediction[\"Predicted\"] = test_predict\n",
    "test_prediction.head()"
   ]
  },
  {
   "cell_type": "code",
   "execution_count": 66,
   "id": "ea2d48cf-0742-42cb-b6d8-af690928fa02",
   "metadata": {},
   "outputs": [
    {
     "data": {
      "image/png": "[encoded data removed]",
      "text/plain": [
       "<Figure size 1400x500 with 1 Axes>"
      ]
     },
     "metadata": {},
     "output_type": "display_data"
    }
   ],
   "source": [
    "# Train ve Test Tahminlerini Ayrı Ayrı Görselleştirme İşlemi\n",
    "plt.figure(figsize=(14,5))\n",
    "plt.plot(result_df, label = \"Real Number of Passengers\")\n",
    "plt.plot(train_prediction[\"Predicted\"], color = \"blue\", label = \"Train Predicted Number of Passenger\")\n",
    "plt.plot(test_prediction[\"Predicted\"], color = \"red\", label = \"Test Predicted Number of Passenger\")\n",
    "plt.title(\"Number of Passengers Prediction\")\n",
    "plt.xlabel(\"Time\")\n",
    "plt.ylabel(\"Number of Passengers\")\n",
    "plt.legend()\n",
    "plt.show()"
   ]
  },
  {
   "cell_type": "code",
   "execution_count": null,
   "id": "a52fe03d-e8a0-4a05-aa5d-f35695898c57",
   "metadata": {},
   "outputs": [],
   "source": []
  }
 ],
 "metadata": {
  "kernelspec": {
   "display_name": "Python 3 (ipykernel)",
   "language": "python",
   "name": "python3"
  },
  "language_info": {
   "codemirror_mode": {
    "name": "ipython",
    "version": 3
   },
   "file_extension": ".py",
   "mimetype": "text/x-python",
   "name": "python",
   "nbconvert_exporter": "python",
   "pygments_lexer": "ipython3",
   "version": "3.11.5"
  }
 },
 "nbformat": 4,
 "nbformat_minor": 5
}
